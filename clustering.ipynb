{
  "cells": [
    {
      "cell_type": "markdown",
      "metadata": {
        "id": "view-in-github",
        "colab_type": "text"
      },
      "source": [
        "<a href=\"https://colab.research.google.com/github/amir-ghaffari/clustering/blob/main/clustering.ipynb\" target=\"_parent\"><img src=\"https://colab.research.google.com/assets/colab-badge.svg\" alt=\"Open In Colab\"/></a>"
      ]
    },
    {
      "cell_type": "markdown",
      "source": [
        "###welcome to this simple k-means clustering demonstration for text matching"
      ],
      "metadata": {
        "id": "X7dADUeOK0Pe"
      },
      "id": "X7dADUeOK0Pe"
    },
    {
      "cell_type": "markdown",
      "source": [
        "#libraries"
      ],
      "metadata": {
        "id": "T35kqw0PHsY1"
      },
      "id": "T35kqw0PHsY1"
    },
    {
      "cell_type": "code",
      "execution_count": 1,
      "id": "3241b202-0c95-440c-8b1f-2f723f2444d9",
      "metadata": {
        "tags": [],
        "id": "3241b202-0c95-440c-8b1f-2f723f2444d9"
      },
      "outputs": [],
      "source": [
        "import pandas as pd\n",
        "from transformers import AutoModel\n",
        "import torch\n",
        "import os.path as path\n",
        "import numpy as np\n",
        "\n",
        "import ipywidgets as widgets\n",
        "\n",
        "from sklearn.cluster import KMeans\n",
        "from sklearn.cluster import DBSCAN\n",
        "from collections import defaultdict\n",
        "from sklearn.metrics import silhouette_score, davies_bouldin_score\n",
        "import matplotlib.pyplot as plt"
      ]
    },
    {
      "cell_type": "markdown",
      "source": [
        "#loading the model"
      ],
      "metadata": {
        "id": "oPJ9BJFGNagb"
      },
      "id": "oPJ9BJFGNagb"
    },
    {
      "cell_type": "code",
      "execution_count": null,
      "id": "81f917a3-01b3-4cf3-813f-447855d2d2f7",
      "metadata": {
        "tags": [],
        "id": "81f917a3-01b3-4cf3-813f-447855d2d2f7"
      },
      "outputs": [],
      "source": [
        "%%capture\n",
        "model = AutoModel.from_pretrained(\"jinaai/jina-embeddings-v3\", trust_remote_code=True)"
      ]
    },
    {
      "cell_type": "markdown",
      "source": [
        "#loading the data and preprocessing"
      ],
      "metadata": {
        "id": "rU58kE1LYIEi"
      },
      "id": "rU58kE1LYIEi"
    },
    {
      "cell_type": "markdown",
      "source": [
        "####please upload your file and enter it's name (with sufix)"
      ],
      "metadata": {
        "id": "1wb2CcQlNwBO"
      },
      "id": "1wb2CcQlNwBO"
    },
    {
      "cell_type": "code",
      "source": [
        "# @title\n",
        "file_path = input(\"file name (with sufix): \")"
      ],
      "metadata": {
        "cellView": "form",
        "id": "OGrziZo2MQk-",
        "outputId": "33f7b3f5-7b37-4dc4-9016-e0e98e932a1d",
        "colab": {
          "base_uri": "https://localhost:8080/"
        }
      },
      "id": "OGrziZo2MQk-",
      "execution_count": null,
      "outputs": [
        {
          "name": "stdout",
          "output_type": "stream",
          "text": [
            "file name (with sufix): reasons.xlsx\n"
          ]
        }
      ]
    },
    {
      "cell_type": "markdown",
      "source": [
        "###please define the colum you want the clustering algorithm to be performed on\n",
        "*** first colum is zero ***"
      ],
      "metadata": {
        "id": "d5udl2TeOBuS"
      },
      "id": "d5udl2TeOBuS"
    },
    {
      "cell_type": "code",
      "execution_count": null,
      "id": "206a961f-4717-4bb2-94f8-4b75cde22a22",
      "metadata": {
        "tags": [],
        "colab": {
          "base_uri": "https://localhost:8080/"
        },
        "cellView": "form",
        "id": "206a961f-4717-4bb2-94f8-4b75cde22a22",
        "outputId": "16d19057-35b9-4a67-88ec-da0300bfe81b"
      },
      "outputs": [
        {
          "name": "stdout",
          "output_type": "stream",
          "text": [
            "witch colum: 2\n"
          ]
        }
      ],
      "source": [
        "# @title\n",
        "colum = int(input('witch colum: '))\n",
        "colums_to_use = [colum]"
      ]
    },
    {
      "cell_type": "code",
      "execution_count": null,
      "id": "582fcf87-8ead-495f-8dd0-944a628127f2",
      "metadata": {
        "tags": [],
        "id": "582fcf87-8ead-495f-8dd0-944a628127f2"
      },
      "outputs": [],
      "source": [
        "# @title\n",
        "data = pd.read_excel(file_path, usecols=colums_to_use, header = None, keep_default_na=False)\n",
        "text = np.reshape(data, 1274*1)"
      ]
    },
    {
      "cell_type": "code",
      "execution_count": null,
      "id": "084fec6c-34d9-4f20-919c-4de59f56bed1",
      "metadata": {
        "tags": [],
        "id": "084fec6c-34d9-4f20-919c-4de59f56bed1"
      },
      "outputs": [],
      "source": [
        "# @title\n",
        "if path.exists('embedding.csv') == 1:\n",
        "    embedding = np.array(pd.read_csv('embedding.csv'))\n",
        "else:\n",
        "    embedding = model.encode(text, task=\"text-matching\")\n",
        "    db=pd.DataFrame(embedding)\n",
        "    db.to_csv('embedding.csv', index=False)"
      ]
    },
    {
      "cell_type": "code",
      "execution_count": null,
      "id": "15aec49e-40c2-4b87-b6cc-101b2a9ba1a7",
      "metadata": {
        "tags": [],
        "id": "15aec49e-40c2-4b87-b6cc-101b2a9ba1a7"
      },
      "outputs": [],
      "source": [
        "embeddings_np = torch.tensor(embedding).numpy()\n",
        "#np.shape(embeddings_np)"
      ]
    },
    {
      "cell_type": "markdown",
      "source": [
        "#finding the optimum number of clusters"
      ],
      "metadata": {
        "id": "LAkpv4DlYdtT"
      },
      "id": "LAkpv4DlYdtT"
    },
    {
      "cell_type": "markdown",
      "source": [
        "###please define the range of searching for the optimum k"
      ],
      "metadata": {
        "id": "DReXLJ4uZCf5"
      },
      "id": "DReXLJ4uZCf5"
    },
    {
      "cell_type": "code",
      "source": [
        "# @title\n",
        "style = {'description_width': 'initial'}\n",
        "w = widgets.IntRangeSlider(value=[10, 25], min=5, max=50, step=1, description='define the range of k:', orientation='horizontal',\n",
        "                           readout=True, layout=widgets.Layout(width='600px', height='100px'), style=style)\n",
        "w"
      ],
      "metadata": {
        "id": "QJBSpwSvZEGh",
        "outputId": "842f14ef-db9f-44e4-d7b8-4897713a8168",
        "colab": {
          "base_uri": "https://localhost:8080/",
          "height": 121,
          "referenced_widgets": [
            "5010922990114abbba01c02f326c312b",
            "1578856cc2c3415185936b5dc4ce5b01",
            "749f6381e70847ecaff70e5920a97252"
          ]
        }
      },
      "id": "QJBSpwSvZEGh",
      "execution_count": null,
      "outputs": [
        {
          "output_type": "display_data",
          "data": {
            "text/plain": [
              "IntRangeSlider(value=(10, 25), description='define the range of k:', layout=Layout(height='100px', width='600p…"
            ],
            "application/vnd.jupyter.widget-view+json": {
              "version_major": 2,
              "version_minor": 0,
              "model_id": "5010922990114abbba01c02f326c312b"
            }
          },
          "metadata": {}
        }
      ]
    },
    {
      "cell_type": "code",
      "source": [
        "k = w.value\n",
        "min_k = k[0]\n",
        "max_k = k[1]"
      ],
      "metadata": {
        "id": "zEBJmtNeZ38g"
      },
      "id": "zEBJmtNeZ38g",
      "execution_count": null,
      "outputs": []
    },
    {
      "cell_type": "code",
      "execution_count": null,
      "id": "7e45f01c-f758-4665-a69c-7075bd03bc74",
      "metadata": {
        "tags": [],
        "id": "7e45f01c-f758-4665-a69c-7075bd03bc74"
      },
      "outputs": [],
      "source": [
        "kmeans_clustering = []\n",
        "kmeans_labels =[]\n",
        "k_sil_scores = []\n",
        "K_WCSS = []\n",
        "k_davies_scores = []\n",
        "\n",
        "for i in range (min_k,max_k+1):\n",
        "    kmeans = KMeans(n_clusters=i, random_state=40, init='k-means++', n_init='auto')\n",
        "    clustering = kmeans.fit_predict(embeddings_np)\n",
        "    sil_score = silhouette_score(embeddings_np, clustering)\n",
        "    davies_score = davies_bouldin_score(embeddings_np, clustering)\n",
        "\n",
        "    kmeans_clustering.append(kmeans)\n",
        "    kmeans_labels.append(clustering)\n",
        "    k_sil_scores.append(sil_score)\n",
        "    k_davies_scores.append(davies_score)\n",
        "    K_WCSS.append(kmeans.inertia_)"
      ]
    },
    {
      "cell_type": "markdown",
      "source": [
        "#results\n",
        "###these are the performance scores of the clustering algorithm with different number of clusters (k):"
      ],
      "metadata": {
        "id": "Hqat2MA2b0pD"
      },
      "id": "Hqat2MA2b0pD"
    },
    {
      "cell_type": "code",
      "execution_count": null,
      "id": "926ebea1-7a02-4bc4-83c8-f8ce1762e1d1",
      "metadata": {
        "tags": [],
        "colab": {
          "base_uri": "https://localhost:8080/",
          "height": 487
        },
        "cellView": "form",
        "id": "926ebea1-7a02-4bc4-83c8-f8ce1762e1d1",
        "outputId": "11a7525b-d9b8-49b5-b653-8b015162269c"
      },
      "outputs": [
        {
          "output_type": "display_data",
          "data": {
            "text/plain": [
              "<Figure size 1400x500 with 1 Axes>"
            ],
            "image/png": "[encoded data removed]"
          },
          "metadata": {}
        }
      ],
      "source": [
        "# @title\n",
        "num_of_clusters=list(range(min_k,max_k+1))\n",
        "plt.figure(figsize=(14, 5))  # Set the figure size\n",
        "plt.plot(num_of_clusters, k_sil_scores, marker='o', mfc='yellow', linestyle='-', color='b', label='Values')\n",
        "\n",
        "plt.xticks(range(min(num_of_clusters), max(num_of_clusters) + 1, 1))\n",
        "\n",
        "plt.xlabel('Number of clusters')\n",
        "plt.ylabel('silhouette_score')\n",
        "plt.title('Plot of silhouette_score for different Number of Clusters')\n",
        "\n",
        "plt.grid(True)\n",
        "\n",
        "plt.legend()\n",
        "\n",
        "plt.show()"
      ]
    },
    {
      "cell_type": "code",
      "execution_count": null,
      "id": "6803cb95-fdd2-41dd-83f3-fda198231280",
      "metadata": {
        "tags": [],
        "colab": {
          "base_uri": "https://localhost:8080/",
          "height": 487
        },
        "cellView": "form",
        "id": "6803cb95-fdd2-41dd-83f3-fda198231280",
        "outputId": "2102e120-43da-40ac-9623-e36bfd2bb6d1"
      },
      "outputs": [
        {
          "output_type": "display_data",
          "data": {
            "text/plain": [
              "<Figure size 1400x500 with 1 Axes>"
            ],
            "image/png": "[encoded data removed]"
          },
          "metadata": {}
        }
      ],
      "source": [
        "# @title\n",
        "plt.figure(figsize=(14, 5))  # Set the figure size\n",
        "plt.plot(num_of_clusters, k_davies_scores, marker='o', mfc='yellow', linestyle='-', color='b', label='Values')\n",
        "\n",
        "plt.xticks(range(min(num_of_clusters), max(num_of_clusters) + 1, 1))\n",
        "\n",
        "plt.xlabel('Number of clusters')\n",
        "plt.ylabel('davies_bouldin_score')\n",
        "plt.title('Plot of davies_bouldin_score for different Number of Clusters in K-means **Lower is better')\n",
        "\n",
        "plt.grid(True)\n",
        "\n",
        "plt.legend()\n",
        "\n",
        "plt.show()"
      ]
    },
    {
      "cell_type": "code",
      "source": [
        "# @title\n",
        "plt.figure(figsize=(14, 5))  # Set the figure size\n",
        "plt.plot(num_of_clusters, K_WCSS, marker='o', mfc='yellow', linestyle='-', color='b', label='Values')\n",
        "\n",
        "plt.xticks(range(min(num_of_clusters), max(num_of_clusters) + 1, 1))\n",
        "\n",
        "plt.xlabel('Number of clusters')\n",
        "plt.ylabel('Within cluster sum of  sum of squares (WCSS) error')\n",
        "plt.title('Plot of WCSS error for different Number of Clusters')\n",
        "\n",
        "plt.grid(True)\n",
        "\n",
        "plt.legend()\n",
        "\n",
        "plt.show()"
      ],
      "metadata": {
        "cellView": "form",
        "id": "FGhrdgOHaPqI",
        "outputId": "e7bbc4fc-ac57-40a6-d14a-c3a9e63f30ab",
        "colab": {
          "base_uri": "https://localhost:8080/",
          "height": 487
        }
      },
      "id": "FGhrdgOHaPqI",
      "execution_count": null,
      "outputs": [
        {
          "output_type": "display_data",
          "data": {
            "text/plain": [
              "<Figure size 1400x500 with 1 Axes>"
            ],
            "image/png": "[encoded data removed]"
          },
          "metadata": {}
        }
      ]
    },
    {
      "cell_type": "markdown",
      "source": [
        "#clustering the data using the optimum value of k\n",
        "###please define the best k using the scores above"
      ],
      "metadata": {
        "id": "nWhRAUiFcyyd"
      },
      "id": "nWhRAUiFcyyd"
    },
    {
      "cell_type": "code",
      "source": [
        "w1 = widgets.IntSlider(description='define the optimum value of k:', min=5, max=40, value=20,\n",
        "                       layout=widgets.Layout(width='600px', height='100px'), style=style)\n",
        "display(w1)"
      ],
      "metadata": {
        "id": "A1C0XWjfgyxO",
        "outputId": "f5bda8ee-8022-4159-8975-f0deb42cca0e",
        "colab": {
          "base_uri": "https://localhost:8080/",
          "height": 121,
          "referenced_widgets": [
            "4d7ced58f1d4441cbfd8ba8a446e6fce",
            "96c6895728c3425d8d34810cfcc23cdd",
            "68a43665ddfe4ad78c9e5fa665e02bd1"
          ]
        }
      },
      "id": "A1C0XWjfgyxO",
      "execution_count": null,
      "outputs": [
        {
          "output_type": "display_data",
          "data": {
            "text/plain": [
              "IntSlider(value=20, description='define the optimum value of k', layout=Layout(height='100px', width='600px'),…"
            ],
            "application/vnd.jupyter.widget-view+json": {
              "version_major": 2,
              "version_minor": 0,
              "model_id": "4d7ced58f1d4441cbfd8ba8a446e6fce"
            }
          },
          "metadata": {}
        }
      ]
    },
    {
      "cell_type": "code",
      "source": [
        "k_optimal = w1.value\n",
        "k_optimal"
      ],
      "metadata": {
        "id": "_YIXicnfiDEy",
        "outputId": "200f8380-c154-4e31-fedb-a9b9425a301d",
        "colab": {
          "base_uri": "https://localhost:8080/"
        }
      },
      "id": "_YIXicnfiDEy",
      "execution_count": null,
      "outputs": [
        {
          "output_type": "execute_result",
          "data": {
            "text/plain": [
              "20"
            ]
          },
          "metadata": {},
          "execution_count": 62
        }
      ]
    },
    {
      "cell_type": "markdown",
      "source": [
        "#clustering the data and saving it to an excel file"
      ],
      "metadata": {
        "id": "TtrrNrWni0SO"
      },
      "id": "TtrrNrWni0SO"
    },
    {
      "cell_type": "code",
      "execution_count": null,
      "id": "ffc36e5b-5c16-4314-9a5a-fe08f2cfc1de",
      "metadata": {
        "tags": [],
        "id": "ffc36e5b-5c16-4314-9a5a-fe08f2cfc1de"
      },
      "outputs": [],
      "source": [
        "kmeans = KMeans(n_clusters=k_optimal, random_state=40, n_init=10)\n",
        "clusters = kmeans.fit_predict(embeddings_np)\n",
        "\n",
        "clustered_data=pd.read_excel(file_path, header=None, names=['gender', 'status', 'reason'], keep_default_na=False, dtype=list)\n",
        "clustered_data['Cluster'] = clusters\n",
        "\n",
        "clustered_data_sorted=clustered_data.sort_values('Cluster')\n",
        "\n",
        "if path.exists(\"clustered_reasons.xlsx\") == 0:\n",
        "    clustered_data.to_excel(\"clustered_reasons.xlsx\", index=False)\n",
        "    print(\"clusters succesfully saved you can download the clustered_reasons excel file\")\n",
        "\n",
        "if path.exists(\"clusterd_data_sorted.xlsx\") == 0:\n",
        "    clustered_data_sorted.to_excel(\"clusterd_data_sorted.xlsx\", index=False)\n",
        "    print(\"sorted clusters succesfully saved you can download the clustered_reasons_sorted excel file\")"
      ]
    },
    {
      "cell_type": "markdown",
      "source": [
        "#**important:** to perform clustering on new data u must remove the files or restart the session"
      ],
      "metadata": {
        "id": "m55vx7atnK-g"
      },
      "id": "m55vx7atnK-g"
    },
    {
      "cell_type": "code",
      "execution_count": null,
      "id": "b88a95d4-acda-490e-ae8e-b193edafeb3f",
      "metadata": {
        "tags": [],
        "colab": {
          "base_uri": "https://localhost:8080/"
        },
        "id": "b88a95d4-acda-490e-ae8e-b193edafeb3f",
        "outputId": "7331ee22-a8e6-40c7-8d3d-6bde98a17fd0"
      },
      "outputs": [
        {
          "output_type": "stream",
          "name": "stdout",
          "text": [
            "Cluster 0:\n",
            "یک سفر شش ماه کاری داشتم که وقفه افتاد\n",
            "تغییر شرایط کاری داشتند\n",
            "تغییر پست شغلی داشتند معاون شده اند و خیلی درگیر بودند\n",
            "مشکل کاری داشتم که وقتم رو زیاد می گرفت\n",
            "مشغله های کاری داشتم ولی حل شد\n",
            "به دلیل مشغله زیاد\n",
            "مشقله کاری زیاد باعث شد در دیدن جلسات وقفه بیفتد\n",
            "من کارگر معدن هستم و انتن نداشتم\n",
            "مغازه دار هستم و یه مدتی کارم زیاد شده بود\n",
            "یه مقدار کارم زیاد شده بود و وقفه افتاده بود\n",
            "مشکلات شغلی داشتم که وقت کم آورده بودم\n",
            "مشغله زیاد داشتند\n",
            "مشکلی در کار و خانواده داشتند\n",
            "مشکلات کاری پیش اومده بود\n",
            "دبیر هستند و درگیر قسمتی از اداره هم هستند\n",
            "مشغله زیاد و تنبلی\n",
            "مشکلات کاریم زیاد بود و امروز فردا می شد\n",
            "یه مقداری مشغله کاری داشتم ولی بیشتر تنبلی بود\n",
            "من شغلم طوری هست برام خیلی سخت بود ولی حتما توی فکر هستم\n",
            "....................................................................................................\n",
            "Cluster 1:\n",
            "درگیر کار و دانشگاه هستند\n",
            "خیلی درگیر دانشگاه بودند\n",
            "درگیر آزمون هستند\n",
            "در گیر آزمون سختی برای تابستان هستند\n",
            "درگیر امتحانات و بیکاری هستند\n",
            "درگیر کنکور هستند و قرار شد\n",
            "کنکوری هستند ودرگیر بعدازکنکور\n",
            "درگیر امتحانات و مدرسه بودند\n",
            "شروع سال تحصیلی شده و چون درگیر امتحان هستند وقت نمی‌کنند\n",
            "در روستا بودند وبه اینترنت دسترسی نداشته و الان دانشگاه هستند درگیر امتحان هستند\n",
            "چون شکست خورده بودند جلسات را مشاهده نمی‌کردند و فقط آزمون را شرکت می‌کردند و انگیزه را از دست داده بودند\n",
            "درگیر مراسم عقدشون بودند و امتحانات دو هفته اینده\n",
            "درگیر امتحانات بودند و پدر بزرگشون به رحمت خدا رفته اند\n",
            "دانشجو هستند و برنامه هاشون بهم ریخت\n",
            "فعلا دوره را متوقف کرده اند\n",
            "دانشگاه قبول شدند\n",
            "درگیر مراسم ازدواج وبعد هم امتحانات\n",
            "معلم بودن اواسط سال کارشون زیاد شده - دختر کلاس اولی دارن و بابت تعطیلات آلودگی هوا و کلاس های آنلاین مشغله ها بیشتر شده\n",
            "درگیر کنکور و دانشگاه هستند\n",
            "درگیر ازدواج و امتحانات شدند\n",
            "....................................................................................................\n",
            "Cluster 2:\n",
            "من 14 سالم بود و مادرم گفت بعضی بحث ها مناسب سن شما نیست و ادامه ندادم\n",
            "گفتند نشد نگاه کنم و دلیل را اعلام نکردند\n",
            "یک بار توی جاده بودم و دیر رسیدم و پیام به پشتیبان دادم که جواب ندادند و دل سرد شدم\n",
            "مشکلات مختلف باعث شد وقفه بیفته و انگیزه نداشته باشم\n",
            "یه وقفه چند روزه پیش اومده بود چون شکست خورده بودم\n",
            "یک ماهی بود شهرستانبودم و دسترسی نداشتم\n",
            "هیچ بهانه ای ندارم واقعا\n",
            "شکست در عادت\n",
            "وقفه ای افتاده بود در ماه محرم و ادامه ندادم و الان تمایل دارم برگردم\n",
            "وقفه افتاد و نمی دونستم باید از اول شروع کنم یا نه\n",
            "هیمار نداشتم و ادامه ندادم و الان با یک شماره دیگه از اول شروع کردم.\n",
            "هیچ توجیهی ندارم\n",
            "کمال طلبی من باعث شد فکر کنم نباید شکست داشته باشم ولی شکست خورده بودم\n",
            "وقفه افتاده بود و فکر کردم نمیشه دیگه ادامه داد\n",
            "کم سعادتی داشتم و وقفه افتاد\n",
            "من خیلی کمال گرا بودم و می خواستم به هیچ وجه شکست نخورم و زمانی که شکست خوردم انگیزه ام از دست رفت\n",
            "مشکل روحی برام پیش اومده بود و انگیزه نداشتم\n",
            "من توکل برخدا کردم و شروع کردم ولی در حین این که شروع کردم بازم مرتکب گناه شدم پس خدا نمی خواد من در این راه باشم!!\n",
            "متاسفانه اراده ضعیفی دارم و کاری می خوام انجام بدم رو نمی تونم\n",
            "مشکل خودارضایی داشتم و نتونستم عادتم رو ترک کنم و انگیزه نداشتم\n",
            "وقفه افتاده بود و فکر کردم نمیشه ادامه داد\n",
            "....................................................................................................\n",
            "Cluster 3:\n",
            "مشکلی پیش اومده بود که نرسیدم بیام\n",
            "مشکلی پیش اومده بود و نتونستم\n",
            "مشکلات روحی پیدا کردن\n",
            "یه مقدار مشکل داشتم و رفع شد و پیگیر بودم\n",
            "مشکلی پیش اومده بود و الان الحمدلله حل شد\n",
            "مشکلی پیش اومد ان شالله حل بشه\n",
            "از نظر شرعی مشکلی براشون پیش آمده بوده\n",
            "یه مشکلی پیش اومده بود که وقت کم آورده بودم\n",
            "یک مشکل کوچیک دارم ان شالله حل بشه\n",
            "یه کمی درگیر بودم و نتونستم\n",
            "یک سانحه ای برای من پیش اومده بود که دو ماهی بستری بودم\n",
            "مشکلی داشتم که حل شد و دیگه وقت برای ادامه ندارم\n",
            "مشکلی پیش اومده بود و بعد از اون هم یادم رفت\n",
            "مشکلی پیش اومده بود\n",
            "یه مقدار مشکلات بود\n",
            "مشکلاتی داشتم که وقت نکرده بودم\n",
            "مشکلی پیش اومده بود و پیگیر میشم و به خیلی ها هم معرفی کردم\n",
            "مشکلی پیش اومده بود که وقت کم آورده بودم\n",
            "یه مشکلی داشتم که به لطف دوره حل شد\n",
            "وارد حوزه شدم و کمی درگیر بودم\n",
            "یه سری مشکلاتی پیش اومده بود که وقت نداشتم\n",
            "....................................................................................................\n",
            "Cluster 4:\n",
            "یک جا دیگه هم جلسات شرکت کردم تا شنبه تموم میشه و به پشتیبان هم خبر داده بودم که گفتند مشکلی نیست و از ادامه شروع کنید\n",
            "وقت کاریم جوری بود که می تونستم از ده و نیم تا 12 شب می رسیدم گوش کنم ولی پیامک اومد که تا 11 شب باید گوش کنید\n",
            "ماموریت بودم\n",
            "من فعلا ایران نیستم و مسافرت خارج از کشور بودم و چند روزی اومدم و باید دوباره برگردم و فعلا نمی تونم\n",
            "مدافع حرم هست و سوریه بوده و حدود ده روز دیگه ماموریتش تموم میشه\n",
            "جایی بودند قرار شد مجدد تماس بگیرم\n",
            "وقت کم داشتم ولی با شماره جدید می خوام شرکت کنم\n",
            "نظامی هست و ماموریت بوده\n",
            "نظامی هستم و ماموریت بودم\n",
            "فکر می کردم دوره چهل روزه هست ولی دیدم همچنان ادامه داره\n",
            "من مدتی ایران نبودم\n",
            "پیشنهاد پشتیبانی برای ارسال جدول ها\n",
            "شرایط صحبت نداشتند فردا مجدد تماس بگیرم\n",
            "مغازه راه انداختم و صبح زود میرم تا نصفه شب\n",
            "می خواهم از اول شروع کنم با شماره جدید\n",
            "نظامی هستم و گاهی وقت ها ماموریت می خورم و دسترسی ندارم\n",
            "پیامک ارسال کردم گفتند دارند مشاهده می‌کنند\n",
            "یادم رفته بود که شرکت کنم\n",
            "جایی بودند قرار شد بعد صحبت کنیم\n",
            "میخوم از عقب تر شروع کنم که یک مروری هم کرده باشم\n",
            "می خواستم دوره رو یکجا بخرم و الان هم مسافرت هستم و چند روز دیگه برمی گردم\n",
            "....................................................................................................\n",
            "Cluster 5:\n",
            "یه مدتی مشکل داشتم و موقتا نتونستم و وقت کافی پیدا نمی کردم\n",
            "وقت کافی به خاطر شغلم نداشتم\n",
            "وقت کافی ندارم\n",
            "وقت ندارم ولی سعی می کنم وقتم رو ازاد کنم و شرکت کنم\n",
            "وقت کافی به خاطر مشغله نداشتم\n",
            "مغازه دار هستم و وقت کم می آوردم\n",
            "وقت کافی نداشتم\n",
            "وقت نکردم\n",
            "وقت نداشتم\n",
            "وقت نداشتم به خاطر این که سرم خیلی شلوغ بود\n",
            "وقت نداشتم و وقفه می افتاد\n",
            "یک مدتی مشغول کار دیگری بودم که وقت نداشتم\n",
            "معلم هستم و وقت نداشتم\n",
            "کمبود وقت و مشغله زیاد دارند\n",
            "وقفه ای افتاده بود به خاطر مشکلات کاری و وقت نمی کردم\n",
            "وقت کم آورده بودم\n",
            "وقت کم داشتم و باید مدیریت کنم\n",
            "ویزیتور هستم و وقت نداشتم\n",
            "وقت نداشتم ولی به تلنگری زدید\n",
            "وقت نداشتم شرکت کنم\n",
            "....................................................................................................\n",
            "Cluster 6:\n",
            "موقع امتحانات هست الان\n",
            "موقع امتحاناتم بود و بعدش وقفه هم افتاد\n",
            "موقع امتحانات بود و وقتم کم بود و الان ازاد شده\n",
            "کلاس هامون شروع شد و الان هم وت امتحان هست\n",
            "موقع امتحان بود و وقت نداشتیم\n",
            "موقع امتحانات هست بعد امتحان\n",
            "موقه امتحانات بود که فراموش کردم\n",
            "موقع امتحان مدرسه بود که وقفه افتاد\n",
            "موقع امتحانات بود\n",
            "موقع امتحان بود و نتونستم\n",
            "کنکور داشتم و بعد کنکور پیگیر نشدم\n",
            "موقع امتحانات بود و بعدش هم پشت گوش انداختیم\n",
            "مشغول امتحان هستم هنوز\n",
            "فعلا کنکور دارم و منتظرم تموم بشه\n",
            "مشغول امتحانات بودم\n",
            "کنکور داشتم و امتحان مدرسه والان تموم شد\n",
            "موقع امتحان بود و سرم شلوغ بود\n",
            "موقع امتحانات بود و وقت نداشتم\n",
            "موقع امتحانات هست و ان شالله بعد امتحانات\n",
            "موقع امتحانات بود و یک اتفاقی هم برای من افتاده بود که وقفه افتاد\n",
            "طلبه جامعه المصطفی هستمو چند وقتی آزمون دکترا داشتم و الحمدلله قبول شدم و خیلی مفید بود\n",
            "....................................................................................................\n",
            "Cluster 7:\n",
            "یک نواخت شدن مباحث\n",
            "پدرشون به رحمت خدا رفته\n",
            "دیسک گردن گرفته اند\n",
            "چون آخر وقت مشاهده می‌کردند\n",
            "جدیدا عقد کرده بودند\n",
            "درگیر ازدواج شدند\n",
            "کسالت دارند\n",
            "عروسی شون بودند\n",
            "درگیری داشتند\n",
            "خیلی درگیر بودند تازه ازدواج کردند\n",
            "مشکل با همسرشون داشتند\n",
            "پدربزرگ و عموشون فوت شدند\n",
            "خاموش\n",
            "پدربزرگ شون به رحمت خدا رفته اند\n",
            "درگیر مراسم عقدشون بود\n",
            "پول در حسابشون نبود\n",
            "درگیر حوزه هستند\n",
            "درگیری شخصی داشتند\n",
            "درگیر ازدواج بودند\n",
            "حالشون خوب نبود\n",
            "درگیر مراسم ازداوج بودند\n",
            "....................................................................................................\n",
            "Cluster 8:\n",
            "با محتویات نتوانستند ارتباط برقرار کنند و به ادمین پیام داده بودند\n",
            "خطشون خراب شده بود\n",
            "استاد مشکل داشتند حتی چند بار هم واریزی داشتند ولی سایت براشون باز نشده بود و بعد مشکل حل شده بود\n",
            "سایت مشکل داشته بعد هم وقفه ایجاد شده\n",
            "فعلا با همسرم مشکل جدی دارم و دل و دماغ اومدن به فضای مجازی رو ندارم\n",
            "راننده ماشین سنگین هستم و توی جاده ها گاهی اینترنت نداشتم\n",
            "سایت براشون به مشکل خورده چند بار هم سوال از پشتیبان پاسخ دریافت میکنند\n",
            "مشکل سایت\n",
            "سایت براشون بالا نمیاد و منطقه ای که هستند اینترنت نمیده یک بار هم پرداخت از سایت و عابر بانک داشتند ولی براشون باز نمیشد\n",
            "سایت براشون باز نمیشه و از اول در ایتا ميدند\n",
            "سر کار می رفتم و کمی مشکل اینترنت داشتم\n",
            "راننده بیابون هستم و خیلی وقت ها نت ندارم\n",
            "ماموریت هستیم و دسترسی ما به فضای مجازی محدود هست\n",
            "راننده جاده هستم و گاهی وقت ها به اینترنت دسترسی ندارم\n",
            "از سایت خسته شده اند و مشکل ازمون داشتند\n",
            "استاد مشکل در پرداخت داشتند کارتون خالی هست\n",
            "فعلا یک هفته به اینترنت دسترسی دارم و یک ماه ندارم. این مرحله تموم بشه\n",
            "راننده جاده هستم و خیلی وقت ها در سفر هستم و اینترنت ندارم\n",
            "لینک براشون ارسال کنم\n",
            "مشکل اینترنت بود و جلسه ها باز نمی شد و چند روزی نرفتم داخل سایت\n",
            "به دلیل مشغله زیاد و مشکل سایت\n",
            "....................................................................................................\n",
            "Cluster 9:\n",
            "فراموش کرده بودم\n",
            "فرزندم به دنیا اومده بود و فراموش کرده بودم\n",
            "فراموش کرده بودند\n",
            "وقفه افتاده بود و فراموش شده بود\n",
            "بیمار بودند و بعد هم فراموش کرده بودند\n",
            "مشکل کاری و سفر کاری پیش اومدو بعدش کلا فراموش شد\n",
            "وقفه بیخودی افتاد و یادم رفت\n",
            "مشکلاتی پیش اومده بود که باعث شد فراموش کنم\n",
            "مشکلی پیش اومده بود و وقفه افتاد و بعدش هم فراموش شد\n",
            "یادم رفته بود کلا\n",
            "مشکل اعصاب دارند و فراموش میکرند\n",
            "واقعیتش اینه که یادم رفته بود\n",
            "یادم رفته بود\n",
            "مسافرت بودند و بعد فراموشی کرده بودند\n",
            "مشغول کاری بودند ئ فراموش کرده بودند\n",
            "به خاطر مشکل و بعد هم فراموشی\n",
            "مسافرت پیش اومد براش و بعد درگیر پروژه شد و به کل فراموش کرد دوره رو ثبت نام کرده\n",
            "درگیر مشکلی بودند و فراموش میکنند\n",
            "یادم رفته بود و لینک رو هم نداشتم\n",
            "....................................................................................................\n",
            "Cluster 10:\n",
            "مشغول به کارجدید شدند\n",
            "چون در روز خیلی مشغله دارند به آخر شب موکول می‌کنند و چون تایم شب می‌خواستند مشاهده کردند\n",
            "افسرده گی داشتند و چون در انجام عادت ها به مشکل برخورد بودند دوره را رها کردند دقیقه باهاشون صحبت کردم صدا قطع شد مجدد تماس گرفتم پاسخگو نبودند مجدد تماس میگیرم\n",
            "خیلی به خودشون سخت گرفته بودند و نوشتن هر شب اذیت میشدند و دختر کلاس اول دارند\n",
            "مشکل مغزی دارند و صحبت هم به سختی می کنند و نمی تونند ادامه بدن\n",
            "با همسرشون به مشکل خورده اند واصلا حال روحی مناسبی نداشتند ولی ان شاء الله که ادامه دهند\n",
            "اربعين بودند ولی خدا رو شکر شروع کرده اند\n",
            "کربلا بودند و در روند عادت سازی مشکل داشتند\n",
            "برنامه نویسی کار می‌کنند می‌خواهند با مجوعه کار کنند دوره را از اول با شماره دیگر شروع کرده اند\n",
            "با یه شماره جدید شروع کردند\n",
            "عمل داشتند و چون وقفه طولانی شده بود برگشت براشون سخت بود\n",
            "افسردگی خیلی طولانی داشتند ولی با تماس انگیزه گرفتند و گفتند حتما مجدد شروع می‌کنند\n",
            "باردار بودند حالشون خوب نبود الان بهتر شدند قرار شد شروع کنند\n",
            "ادامه میدهند\n",
            "ولی خیلی صحبت کردم شاید تصمیمش ن عوض شود و ادامه دهند\n",
            "وقت ندارند و تمرکز ندارند البته گفتند خیلی دوست دارم ادامه بدهم مشکلشون حل بشه شاید مشاهده کنند\n",
            "انگیزه شون پایین اومده بود و با شروع چله مشکل در فراموشی جلسات داشتند باهاشون صحبت کردم ان شاء الله مجدد شروع میکنند\n",
            "اهمال کاری داشتند و انگیزه را از دست داده بوند ولی با تماس خیلی خواهش شدند و گفتند حتما ادامه میدهم\n",
            "افسردگی داشتند و لی قرار شد ادامه دهند\n",
            "ادامه داده اند\n",
            "....................................................................................................\n",
            "Cluster 11:\n",
            "درگیر بیماری خانواده بودند\n",
            "مریض شده بودم و مدتی درگیر بیماری بودم\n",
            "همسرم مریض بود و خودم هم درگیری کاری داشتم\n",
            "مریض شده بودم و درگیر مریضی بودم\n",
            "درگیر جراحی و شیمی درمانی شده اند ولی ان شاء الله حتما مشاهده میکنند\n",
            "دختر مریض شدند\n",
            "مریض هستم فعلا\n",
            "مریض شده بودم و حالم خوب نبود\n",
            "بیمار شدند\n",
            "مریض بودم و بیمارستان بودم\n",
            "مشغله زیاد داشتند و مادرشان هم بیمار بودند\n",
            "به دلیل شیمی درمانی و پرتو درمانی\n",
            "بیمار بودند\n",
            "همسرم مریض هست و درگیر مریضی ایشون هستم\n",
            "همسرم مریض شده بود و درگیر درمانش بودم\n",
            "مریض هستم و هنوز خوب خوب نشدم\n",
            "ویروس آنفولانزا گرفتند\n",
            "مشغول ترک اعتیاد بود\n",
            "بیماربودند\n",
            "مریض بودم و نتونستم والان بهترم\n",
            "گفتند چون کمال گرا هستند پزشک بهشون گفته به خودتون سخت نگیرید خیلی صحبت کردم و توضیح دادم ولی اثر نداشت\n",
            "....................................................................................................\n",
            "Cluster 12:\n",
            "مشکلات و تنبلی داشتند گفتند جریمه را حذف نکنند و خودشون جمعه ادامه میدهند\n",
            "انجام عادت ها و محاسبه هرشب برام وسواس ایجاد کرده بود دوتا بچه کوچیک هم دارم. جریمه میشدم چون همراه بانک نداشتم برام سخته تا عابربانک برم و واریز کنم\n",
            "یادم می رفت و جریمه می شدم\n",
            "مطالب خیلی ارزشمند هست و حتما میخوام بنویسم که نکته ای از دستم نره - و نمیخواستم جریمه هام سنگین تر نشه\n",
            "به خاطر جریمه و مسافرت\n",
            "وقفه می افتاد و جریمه می شدم\n",
            "مشکل پرداخت جریمه داشتند\n",
            "نتونسته بودم جریمه رو پرداخت کنم به خاطر مسدود شدن حساب هام و به پشتیبان ایتا پیام داده بودم و جواب نداده بودند تا شرایطم رو مطرح کنم\n",
            "به دلیل جریمه شدن مشکل در پرداخت داشتند انگیزه خود را از دست دادند\n",
            "میگفت وقت نداشتم عادت ها رو انجام بدم و یادم می رفت و جریمه رو برداشتم\n",
            "مریض شدم و بعد جریمه شدم و نتونستم پرداخت کنم\n",
            "مشکل داشتم و اذیت می شدم و باید جزیمه پرداخت می کردم\n",
            "با شماره جدید وارد شده اند البته جریمه خط را برداشتم و با خط قبلی وارد شدند\n",
            "من و همسرم پزشک هستیم و وقت کم آوردیم و جریمه زیاد می شدیم\n",
            "وقت نداشتم و چند بار جریمه شدم\n",
            "به دلیل جریمه شدن و درگیری ها\n",
            "به خاطر جریمه و مفاهیم براشون سنگین بود و شرایط اقتصادی مناسبی هم ندارند آزمون هم گفتند 3 تا درست می‌زند 2 تا غلط بازم صفر میخورد\n",
            "بیمارستان بستری بودند و بعد براشون باز کردند بعد آزمون براشون فعال نمیشد و دوباره جریمه شده اند\n",
            "وقفه خوره بود و جریمه شدم و نتونستم\n",
            "یه مقدار جریمه می خوردم\n",
            "....................................................................................................\n",
            "Cluster 13:\n",
            "یه مقدار مشکل شخصی داشتم و وقفه افتاد\n",
            "مشکلات شخصی داشتم که حل شد\n",
            "مشکلات شخصی داشتم که باعث وقفه شد\n",
            "مشکلی شخصی پیش اومده\n",
            "مشکلات شخصی داشتم و حل شد\n",
            "مشکل شخصی داشتند\n",
            "مشکل شخصی براشون پیش آمده بود\n",
            "مشکلات شخصی داشتم که مانع ادامه دادن شد\n",
            "یه مقدار مشکلات شخصی داشتم\n",
            "مشکلاتی پیش اومده بود که شخصی بودند\n",
            "یه مقدار مشکلات شخصی و یه مقدار تنبلی\n",
            "مشکلات شخصی داشتم\n",
            "مشکلات شخصی داشتم و در حال رفع شدن هست\n",
            "....................................................................................................\n",
            "Cluster 14:\n",
            "مسافرت خارجی پیش اومده بود\n",
            "یه سفر رفتم مشهد و وقفه افتاد و دیگه یادم رفت\n",
            "مسافرت های طولانی پیش اومده بود و عادت ها رو انجام نداده بودم\n",
            "مسافرت بودم و وقفه ایجاد شد\n",
            "خارج از کشور هستند\n",
            "یک سفری به مشهد داشتم و باعث وقفه شد\n",
            "مسافرت و اربعین پیش اومد\n",
            "سفر بودند\n",
            "سفر کربلا و مریضی و سفر مشهد و وقفه افتاد\n",
            "سفر اربعین و یک مسافرت دیگه وقفه انداخت\n",
            "بعد از اربعین و برگشتن از سفر یکم برنامه به مشکل خورده بود\n",
            "شکست درچله و مسافرت و بعد درگیری خانواده\n",
            "زیارت اربعین باعث وقفه شد و دیگه همتش رو نداشتم\n",
            "سفر کربلا رفتم و مسافرت و الان هم امتحانات شروع شد\n",
            "مسافرت بودم و چون دوره خیل خوبی هست به چند نفر پیشنهاد دادم\n",
            "نجف بودند و به محض برگشت شروع می کند.\n",
            "یک مسافرتی چند روزه رفتیم و بعد از اون انگیزه نداشتم\n",
            "جابه جایی از مشهد به طبس داشتم\n",
            "زیارت کربلا رفته بودم و وقفه افتاد\n",
            "مسافرت طولانی داشتم و بعدش وقفه افتاد\n",
            "سفری داشتم و بعد سفر تنبلی کردم و بعد هم یادم رفت ولی تکالیف رو ادامه دادم و الحمدلله قران و نماز شب من عالی شد\n",
            "....................................................................................................\n",
            "Cluster 15:\n",
            "مشکلات شخصی و بعدش هم تنبلی باعث وقفه شد\n",
            "در چله ها شکست داشتند و به دلیل مشغله زیاد\n",
            "یه بار که وقفه می افته باعث میشه این وقفه تکرار بشه\n",
            "مشکل پیش اومده بود و وقفه افتاد\n",
            "یک وقفه کوچیک باعث شد متوقف بشه\n",
            "واقعیتش از تنبلی بود و پشت سر هم وقفه افتاد\n",
            "یه مقداری وقفه افتاد و دیگه پیگیر نشدیم\n",
            "شکست‌های زیاد ایشان را دلزده کرده بود.\n",
            "کاهلی و تنبلی باعث شد\n",
            "مشکلات شخصی باعث شد وقفه بیفته\n",
            "مشکل شخصی باعث شد وقفه بیفتد\n",
            "یه مشکلاتی پیش اومده بود و وقفه افتاده بود\n",
            "مشکلی پیش اومده بود که باعث وقفه شد\n",
            "مشکلات شخصی باعث وقفه شد\n",
            "کمی مشکلات فشار اورده بود که وقفه افتاد\n",
            "مشکلاتی پیش اومده بود که باعث وقفه شد\n",
            "....................................................................................................\n",
            "Cluster 16:\n",
            "فقط و فقط تنبلی کردم\n",
            "یه مدت جابه جایی داشتم و یادم رفته بود\n",
            "سرما خورده بودم و وقفه افتاد\n",
            "یک مقداری سرم شلوغ بود و نتونستم\n",
            "یک مقدار سرم شلوغ بود و البته بیشتر تنبلی بود\n",
            "مشکل داشتم و حقیقتا اصلا یادم رفته بود حالا که تماس گرفتید یادم اومد\n",
            "یک سری شبهات در ذهنم هست که کامل براتون توضیح میدم (بحث توسل)\n",
            "یه مقدار اختلال حواس پیدا کرده بودم\n",
            "یه کمی کاهلی کردم\n",
            "وارد حوزه شدم و پایه یک سرم شلوغ بود\n",
            "سرم خیلی شلوغ بو و یادم رفته بود\n",
            "طلبه هستم و سرم خیلی شلوغ بود\n",
            "وقفه افتاد و دارم مرور می کنم\n",
            "گرفتاری داشتم و رفع شد\n",
            "یک مدت دچار افسرگی شدید شده بودم و الحمدلله برطرف شد\n",
            "یه مقدار غفلت کردم و وقفه افتاد\n",
            "وقفه افتاده بود و تنبلی کردم\n",
            "سرم شلوغ بود ولی دوره خیلی خوبی بود\n",
            "وارد دانشگاه شدم و سرم شلوغ شده بود\n",
            "یه مقدار کارهام رو زیاد کرده بودم و یادم رفته بود\n",
            "سرم شلوغ بود یادم رفته بود\n",
            "....................................................................................................\n",
            "Cluster 17:\n",
            "لینک دوره رو گم کرده بودم و معلم هستم و برای دانش آموزان خودم هم اجرا می کنم\n",
            "مخصوصا در بحث نماز\n",
            "مشکل چشم دارند و ان شاالله تا یک هفته دیگر دکتر گفته می تونی - برای خودش خیلی مفید بود و می خواهد قسمت هایی از دوره را که برای بعضی\n",
            "افراد مفید هست و لازم دارند ولی بهانه وقت طولانی را دارند توضیح بدهد تا انگیزه پیدا کنند که کل دوره را ببینند.\n",
            "وقت کم داشتم و نمی رسیدم جلسات رو ببینم\n",
            "وارد حوزه شدم و دروس سنگین بود و وقت نداشتم\n",
            "من همکار شما بودم (طلبه) و به کلاس های فلسفه رفتم و وقت ندارم اصلا\n",
            "یه مقداری درگیر درس بودم و از برنامه من خارج شد.\n",
            "وقت کافی برای دیدن دوره نداشتم\n",
            "چه جلسه ای می‌توانند ترک کنند که مدیون نشوند\n",
            "مقداری که لازم بود برای مساجد جهت آموزش از شما ایده گرفته بودم و کافی بود\n",
            "مشکلات من رو حل نکرد و برای من فایده نداره اگرچه دوره خیلی خوبی هست\n",
            "من خودم مربی هستم و وقت نداشتم جلسات رو ببینم\n",
            "من درگیر مریضی هستم که نظم برای من و منظم دید جلسات امکان نداره\n",
            "من به جای 3 تا عادت که استاد فرموده بودن 10 تا عادت انتخاب کردم و همه رو شکست خوردم!!\n",
            "هر دفعه می خوام برگردم ولی متاسفانه یادم میره و دوره خیلی خوبی هست\n",
            "متاسفانه همتش نبود علاوه بر این که دوره قبلی رو کامل دیده بودم\n",
            "هم این دوره و هم دوره هوش مصنوعی رو شرکت کردم که متاسفانه چند وقتی وقفه افتاده بود و دوره بسیار عالی هست\n",
            "من درس خارج هستم برای اینکه ببینم دوره چطور هست تا به دیگران معرفی کنم وارد دوره شدم اگرچه دوره عالی هست\n",
            "گوشی ساده دارم و ماموریت میرم و گاهی دو هفته طول می کشه و عملا امکان گوش دادن جلسات نیست\n",
            "جلسات براشون مفید نبود چون ذهشون خیلی درگیر بودند و با واژه ها و راهکارها اصلا نمی‌توانستند ارتباط بگیرند\n",
            "همیار من به من گفت که محتوای دوره خوب نیست و ول کردم\n",
            "همیشه آخر وقت جلسات رو می دیدم و گاهی وقت ها خسته بودم و یادم می رفت\n",
            "....................................................................................................\n",
            "Cluster 18:\n",
            "ماموریت بودم و دسترسی به گوشی نداشتم\n",
            "گوشیم مشکل پیدا کرده بود و امروز گرفتم\n",
            "گوشیشون مشکل پیدا کرده ولی گوشیشون درست شد ادامه دهند\n",
            "گوشیشون خراب شده\n",
            "گوشیشون قابلیت انتقال وجه نداشت و بعد هم فراموش کرده بودند\n",
            "گوشیشون مشکل پیدا کرده است\n",
            "مشکل تاچ گوشی داشت\n",
            "گوشیشون مشکل پیدا کرده و دزیده شد\n",
            "گوشی ندارند و فعلا نمی‌توانند مشاهده کنند\n",
            "گوشیشون خراب شده بود\n",
            "یادم می رفت و چندبار یاداور هم تنظیم کردم ولی پیامک نمی اومد\n",
            "گوشیم مشکلی پیدا کرده بود و بعد از اون وقفه افتاد و چند دفعه خواستم وارد بشم ولی شیطون نذاشت\n",
            "گوشیشون مشکل داشته\n",
            "ماموریت دارم و نمی تونم گوشی با خودم ببرم و فاصله شد و ان شالله سر فرصت مناسب که ماموریت هام کمتر بشه\n",
            "مشکل اینترنت و گوشی دارند\n",
            "شماره در شبکه موجود نیست\n",
            "گوشیشون با دخترشون یکی هست و اقوامش ن به رحمت خدا رفته اند\n",
            "گوشیشون خراب شذه بود\n",
            "گوشیشون تغییر کرده بود ولینک نداشتند و شکست ها انگیزه شون را کم کرده بود\n",
            "مشکل خانوادگی پیش اومده بود و گوشی من هم فلش شده بود ادرس نداشتم\n",
            "گوشیشون خراب شده و مشکل پرداخت جریمه داشتند و وضعیت اقتصادی مناسبی هم ندارند افسردگی دارند\n",
            "....................................................................................................\n",
            "Cluster 19:\n",
            "مادرشون کما هستند و فرزند کوچک هم دارند\n",
            "فعلا درگیر درمان پسرشون هستند ولی ان شاء الله ادامه میدهند\n",
            "درگیر اسباب کشی و 4 فرزند دارند و درگیر بودند\n",
            "وقت ندارند و براشون تکراری بوده برای تشویق فرزندشون مشاهده می‌کردند\n",
            "مادر 6 فرزند هستند و یک نوزاد بیمار دارد\n",
            "صاحب فرزند شدیم و وقتمون کم شده بود\n",
            "خدا به ما فرزندی داد و درگیر ایشون بودیم\n",
            "بچه کوچک دارم\n",
            "تازه بچه ما به دنیا اومد و حدود 2 هفته دیگه\n",
            "همسرشون 4 سال هست فوت شده و به خاطر شرایط مالی دوراز فرزندشون زندگی می‌کنند شرایط سختی دارند خیلی تشکر کردند و دعاگوی شما بودند\n",
            "فعلا نمی تونه ادامه بده تا یه کم مشکلاتش کم بشه- پدر بیمارستان و یک برادر معلول هم داره\n",
            "3 فرزند کوچک دارند و مریض بودند\n",
            "تازه زایمان کرده اند\n",
            "فرزند بیمار ناراحتی قلبی دارند و درگیر هستند\n",
            "فرزند کوچک دارند\n",
            "مشکل بچه داری داشتیم و زمان کم می آوردیم\n",
            "بچه دارشدن ودرگیر بودند\n",
            "زایمان داشتند\n",
            "صاحب فرزند شدیم و وقت کم آورده بودیم\n",
            "به خاطر به دنیا امدن فرزندم همسرم رو از دست دادم و وقفه افتاد\n",
            "....................................................................................................\n"
          ]
        }
      ],
      "source": [
        "grouped_reasons = data.groupby('Cluster')['reason'].apply(list).reset_index()\n",
        "\n",
        "for index, row in grouped_reasons.iterrows():\n",
        "    print(f\"Cluster {row['Cluster']}:\")\n",
        "    print('\\n'.join(list(set(row['reason'][:21]))))\n",
        "    print(\".\" * 100)"
      ]
    },
    {
      "cell_type": "code",
      "execution_count": null,
      "id": "e02c9b57-2855-421c-a291-ebad9950513b",
      "metadata": {
        "id": "e02c9b57-2855-421c-a291-ebad9950513b"
      },
      "outputs": [],
      "source": []
    }
  ],
  "metadata": {
    "kernelspec": {
      "display_name": "Python 3 (ipykernel)",
      "language": "python",
      "name": "python3"
    },
    "language_info": {
      "codemirror_mode": {
        "name": "ipython",
        "version": 3
      },
      "file_extension": ".py",
      "mimetype": "text/x-python",
      "name": "python",
      "nbconvert_exporter": "python",
      "pygments_lexer": "ipython3",
      "version": "3.11.5"
    },
    "colab": {
      "provenance": [],
      "include_colab_link": true
    },
    "widgets": {
      "application/vnd.jupyter.widget-state+json": {
        "5010922990114abbba01c02f326c312b": {
          "model_module": "@jupyter-widgets/controls",
          "model_name": "IntRangeSliderModel",
          "model_module_version": "1.5.0",
          "state": {
            "_dom_classes": [],
            "_model_module": "@jupyter-widgets/controls",
            "_model_module_version": "1.5.0",
            "_model_name": "IntRangeSliderModel",
            "_view_count": null,
            "_view_module": "@jupyter-widgets/controls",
            "_view_module_version": "1.5.0",
            "_view_name": "IntRangeSliderView",
            "continuous_update": true,
            "description": "define the range of k:",
            "description_tooltip": null,
            "disabled": false,
            "layout": "IPY_MODEL_1578856cc2c3415185936b5dc4ce5b01",
            "max": 50,
            "min": 5,
            "orientation": "horizontal",
            "readout": true,
            "readout_format": "d",
            "step": 1,
            "style": "IPY_MODEL_749f6381e70847ecaff70e5920a97252",
            "value": [
              10,
              30
            ]
          }
        },
        "1578856cc2c3415185936b5dc4ce5b01": {
          "model_module": "@jupyter-widgets/base",
          "model_name": "LayoutModel",
          "model_module_version": "1.2.0",
          "state": {
            "_model_module": "@jupyter-widgets/base",
            "_model_module_version": "1.2.0",
            "_model_name": "LayoutModel",
            "_view_count": null,
            "_view_module": "@jupyter-widgets/base",
            "_view_module_version": "1.2.0",
            "_view_name": "LayoutView",
            "align_content": null,
            "align_items": null,
            "align_self": null,
            "border": null,
            "bottom": null,
            "display": null,
            "flex": null,
            "flex_flow": null,
            "grid_area": null,
            "grid_auto_columns": null,
            "grid_auto_flow": null,
            "grid_auto_rows": null,
            "grid_column": null,
            "grid_gap": null,
            "grid_row": null,
            "grid_template_areas": null,
            "grid_template_columns": null,
            "grid_template_rows": null,
            "height": "100px",
            "justify_content": null,
            "justify_items": null,
            "left": null,
            "margin": null,
            "max_height": null,
            "max_width": null,
            "min_height": null,
            "min_width": null,
            "object_fit": null,
            "object_position": null,
            "order": null,
            "overflow": null,
            "overflow_x": null,
            "overflow_y": null,
            "padding": null,
            "right": null,
            "top": null,
            "visibility": null,
            "width": "600px"
          }
        },
        "749f6381e70847ecaff70e5920a97252": {
          "model_module": "@jupyter-widgets/controls",
          "model_name": "SliderStyleModel",
          "model_module_version": "1.5.0",
          "state": {
            "_model_module": "@jupyter-widgets/controls",
            "_model_module_version": "1.5.0",
            "_model_name": "SliderStyleModel",
            "_view_count": null,
            "_view_module": "@jupyter-widgets/base",
            "_view_module_version": "1.2.0",
            "_view_name": "StyleView",
            "description_width": "initial",
            "handle_color": null
          }
        },
        "4d7ced58f1d4441cbfd8ba8a446e6fce": {
          "model_module": "@jupyter-widgets/controls",
          "model_name": "IntSliderModel",
          "model_module_version": "1.5.0",
          "state": {
            "_dom_classes": [],
            "_model_module": "@jupyter-widgets/controls",
            "_model_module_version": "1.5.0",
            "_model_name": "IntSliderModel",
            "_view_count": null,
            "_view_module": "@jupyter-widgets/controls",
            "_view_module_version": "1.5.0",
            "_view_name": "IntSliderView",
            "continuous_update": true,
            "description": "define the optimum value of k",
            "description_tooltip": null,
            "disabled": false,
            "layout": "IPY_MODEL_96c6895728c3425d8d34810cfcc23cdd",
            "max": 40,
            "min": 5,
            "orientation": "horizontal",
            "readout": true,
            "readout_format": "d",
            "step": 1,
            "style": "IPY_MODEL_68a43665ddfe4ad78c9e5fa665e02bd1",
            "value": 20
          }
        },
        "96c6895728c3425d8d34810cfcc23cdd": {
          "model_module": "@jupyter-widgets/base",
          "model_name": "LayoutModel",
          "model_module_version": "1.2.0",
          "state": {
            "_model_module": "@jupyter-widgets/base",
            "_model_module_version": "1.2.0",
            "_model_name": "LayoutModel",
            "_view_count": null,
            "_view_module": "@jupyter-widgets/base",
            "_view_module_version": "1.2.0",
            "_view_name": "LayoutView",
            "align_content": null,
            "align_items": null,
            "align_self": null,
            "border": null,
            "bottom": null,
            "display": null,
            "flex": null,
            "flex_flow": null,
            "grid_area": null,
            "grid_auto_columns": null,
            "grid_auto_flow": null,
            "grid_auto_rows": null,
            "grid_column": null,
            "grid_gap": null,
            "grid_row": null,
            "grid_template_areas": null,
            "grid_template_columns": null,
            "grid_template_rows": null,
            "height": "100px",
            "justify_content": null,
            "justify_items": null,
            "left": null,
            "margin": null,
            "max_height": null,
            "max_width": null,
            "min_height": null,
            "min_width": null,
            "object_fit": null,
            "object_position": null,
            "order": null,
            "overflow": null,
            "overflow_x": null,
            "overflow_y": null,
            "padding": null,
            "right": null,
            "top": null,
            "visibility": null,
            "width": "600px"
          }
        },
        "68a43665ddfe4ad78c9e5fa665e02bd1": {
          "model_module": "@jupyter-widgets/controls",
          "model_name": "SliderStyleModel",
          "model_module_version": "1.5.0",
          "state": {
            "_model_module": "@jupyter-widgets/controls",
            "_model_module_version": "1.5.0",
            "_model_name": "SliderStyleModel",
            "_view_count": null,
            "_view_module": "@jupyter-widgets/base",
            "_view_module_version": "1.2.0",
            "_view_name": "StyleView",
            "description_width": "initial",
            "handle_color": null
          }
        }
      }
    }
  },
  "nbformat": 4,
  "nbformat_minor": 5
}